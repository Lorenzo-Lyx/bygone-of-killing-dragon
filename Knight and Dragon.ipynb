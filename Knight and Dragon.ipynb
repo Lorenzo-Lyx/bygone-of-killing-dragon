{
 "cells": [
  {
   "cell_type": "code",
   "execution_count": null,
   "metadata": {
    "dotnet_interactive": {
     "language": "fsharp"
    },
    "vscode": {
     "languageId": "dotnet-interactive.fsharp"
    }
   },
   "outputs": [],
   "source": [
    "type Prop =\n",
    "    | And of Prop * Prop\n",
    "    | Implies of Prop * Prop\n",
    "    | Or of Prop * Prop\n",
    "    | Not of Prop\n",
    "    | False\n",
    "    | True\n",
    "    | Fact of string"
   ]
  },
  {
   "cell_type": "code",
   "execution_count": null,
   "metadata": {
    "dotnet_interactive": {
     "language": "fsharp"
    },
    "vscode": {
     "languageId": "dotnet-interactive.fsharp"
    }
   },
   "outputs": [],
   "source": [
    "let (<=>) p q = And(Implies(p, q),Implies(q, p))\n",
    "let (=>) p q = Implies(p, q)"
   ]
  },
  {
   "cell_type": "code",
   "execution_count": null,
   "metadata": {
    "dotnet_interactive": {
     "language": "fsharp"
    },
    "vscode": {
     "languageId": "dotnet-interactive.fsharp"
    }
   },
   "outputs": [],
   "source": [
    "let dragon_appear=Fact(\"巨龙出现\")\n",
    "let dragon_catastrophy=Fact(\"龙灾\")\n",
    "let princess_vanish=Fact(\"王国没有公主\")\n",
    "let kingdom_doom=Fact(\"王国覆灭\")\n",
    "let knight_appear=Fact(\"勇士出现\")\n",
    "let knight_bring_back_princess=Fact(\"勇士要带回公主\")\n",
    "let king_ask_name=Fact(\"国王询问勇士姓名\")\n",
    "let knight_get_excalibur=Fact(\"勇士得到最好的剑\")\n",
    "// let king_not_ask_name=Fact(\"国王没有询问勇士姓名\")\n",
    "// let knight_get_no_weapon=Fact(\"勇者没有武器\")\n",
    "let knight_dead=Fact(\"勇士死亡\")\n",
    "let knight_climb_mountain=Fact(\"勇士翻过最高的山\")\n",
    "let monster_assult=Fact(\"怪兽来袭\")\n",
    "let monster_beat = Fact(\"怪兽被击败\")\n",
    "// let monster_weak=Fact(\"怪兽不厉害\")\n",
    "let knight_get_coins=Fact(\"勇士得到12金币\")\n",
    "// let knight_not_get_excalibur=Fact(\"勇者没有最好的剑\")\n",
    "let monster_strong=Fact(\"怪兽很厉害\")\n",
    "let knight_lose_arm=Fact(\"勇士断臂\")\n",
    "let knight_get_beast_hide=Fact(\"勇士获得兽甲防护\")\n",
    "let knight_headfor_village=Fact(\"勇士前往偏远美丽村庄\")\n",
    "\n",
    "\n",
    "\n",
    "let knight_ask_for_village_pos=Fact(\"勇士询问村庄地点\")\n",
    "let knight_get_treasure=Fact(\"勇士获得宝箱\")\n",
    "let knight_reinforce=Fact(\"勇士得到武力加成\")\n",
    "let knight_get_saint_blessing=Fact(\"勇士得到圣月光加成\")\n",
    "let knight_continue=Fact(\"勇士继续前行\")\n",
    "// let knight_go_around_mountain=Fact(\"勇者绕过最高的山\")\n",
    "let knight_break_into_cave=Fact(\"勇士闯进山洞\")\n",
    "let encounter=Fact(\"勇士遇到公主与巨龙\")\n",
    "let knight_ask_dragon_name=Fact(\"勇士问巨龙姓名\")\n",
    "let knight_learn_about_dragon=Fact(\"勇士得知巨龙底细\")\n",
    "// let knight_know_nothing_about_dragon=Fact(\"勇士不知巨龙的底细\")\n",
    "// let knight_not_badly_hurt=Fact(\"勇者没有受重伤\")\n",
    "let knight_badly_hurt=Fact(\"勇士重伤\")\n",
    "let knight_beat_dragon=Fact(\"勇士战胜巨龙\")\n",
    "\n",
    "let knight_save_princess=Fact(\"勇士救了公主\")\n",
    "let knight_ask_princess_name=Fact(\"勇士询问公主姓名\")\n",
    "let princess_fall_in_love=Fact(\"勇士获得公主倾心\")\n",
    "// let knight_not_ask_princess_name=Fact(\"勇者没有询问公主姓名\")\n",
    "let princess_not_fall_in_love=Fact(\"勇者没有获得公主倾心\")\n",
    "let princess_marry_knight=Fact(\"公主嫁给勇士\")\n",
    "let happy_life=Fact(\"公主与勇士幸福得像个童话\")\n",
    "let wang_born=Fact(\"王浩然降生\")\n",
    "let ano_dragon_appear=Fact(\"魔龙来袭\")\n",
    "let wang_grow_up=Fact(\"王浩然长大\")\n",
    "let kingdom_survive=Fact(\"王国没有覆灭\")\n",
    "let wang_dead=Fact(\"王浩然死亡\")\n",
    "let knight_blacken_become_dragon=Fact(\"勇士化身魔龙\")\n",
    "let chapter_one_end = Fact(\"Chapter 1st End.\")\n",
    "let chapter_two_end = Fact(\"Chapter 2nd End.\")\n",
    "let chapter_three_end = Fact(\"Chapter 3rd End.\")\n",
    "let end_story = Fact(\"Story End.\")"
   ]
  },
  {
   "cell_type": "code",
   "execution_count": null,
   "metadata": {
    "dotnet_interactive": {
     "language": "fsharp"
    },
    "vscode": {
     "languageId": "dotnet-interactive.fsharp"
    }
   },
   "outputs": [],
   "source": [
    "let chapter_1st = [\n",
    "   dragon_appear => dragon_catastrophy\n",
    "   dragon_catastrophy => princess_vanish\n",
    "   princess_vanish => knight_appear\n",
    "   knight_appear => knight_bring_back_princess\n",
    "   And(knight_appear, king_ask_name) => knight_get_excalibur\n",
    "\n",
    "   // knight_dead => no_princess_in_kingdom\n",
    "   knight_bring_back_princess => knight_climb_mountain\n",
    "\n",
    "   knight_climb_mountain => monster_assult\n",
    "   And(Not(knight_headfor_village), And(monster_assult, knight_get_excalibur)) => knight_get_coins\n",
    "   And(Not(knight_headfor_village), And(monster_assult, And(Not(knight_get_excalibur), monster_strong))) => knight_lose_arm\n",
    "   And(Not(knight_headfor_village), And(monster_assult, And(Not(knight_get_excalibur), Not monster_strong))) => knight_get_beast_hide\n",
    "\n",
    "   Or(knight_get_coins, Or(knight_get_beast_hide, knight_lose_arm)) => knight_headfor_village\n",
    "\n",
    "   knight_headfor_village => chapter_one_end\n",
    "]\n",
    "\n",
    "let chapter_2nd = [\n",
    "   knight_headfor_village => knight_get_treasure\n",
    "   And(knight_get_treasure, And(knight_ask_for_village_pos, Not(knight_get_excalibur))) => knight_reinforce\n",
    "   And(knight_get_treasure, knight_get_coins) => knight_get_saint_blessing\n",
    "   And(knight_get_treasure, knight_lose_arm) => knight_get_excalibur\n",
    "\n",
    "   knight_get_treasure => knight_continue\n",
    "   knight_continue => knight_break_into_cave\n",
    "   knight_break_into_cave => encounter\n",
    "   And(encounter, knight_ask_dragon_name) => knight_learn_about_dragon\n",
    "\n",
    "   Or(And(encounter, Not(knight_ask_dragon_name)), knight_learn_about_dragon) => chapter_two_end \n",
    "]\n",
    "\n",
    "let chapter_3rd = [\n",
    "   And(Not(knight_beat_dragon), And(knight_learn_about_dragon, Or(knight_get_excalibur, knight_get_beast_hide)))\n",
    "   => knight_beat_dragon\n",
    "\n",
    "   And(Not(knight_beat_dragon), And(knight_learn_about_dragon, And(Not(knight_get_excalibur), knight_reinforce)))\n",
    "   => knight_lose_arm\n",
    "   And(Not(knight_beat_dragon), And(knight_learn_about_dragon, And(Not(knight_get_excalibur), knight_reinforce)))\n",
    "   => knight_beat_dragon\n",
    "\n",
    "   And(Not(knight_beat_dragon), And(Not(knight_learn_about_dragon), And(knight_get_excalibur, knight_get_saint_blessing)))\n",
    "   => knight_beat_dragon\n",
    "\n",
    "   And(Not(knight_beat_dragon), And(Not(knight_learn_about_dragon), knight_get_beast_hide))\n",
    "   => knight_lose_arm\n",
    "   And(Not(knight_beat_dragon), And(Not(knight_learn_about_dragon), knight_get_beast_hide))\n",
    "   => knight_beat_dragon\n",
    "\n",
    "   And(Not(knight_beat_dragon), And(Not(knight_learn_about_dragon), And(Not(knight_get_excalibur), Not(knight_reinforce))))\n",
    "   => knight_dead\n",
    "\n",
    "   And(Not(knight_beat_dragon), And(Not(knight_learn_about_dragon), And(knight_get_excalibur, knight_reinforce)))\n",
    "   => knight_badly_hurt\n",
    "   And(Not(knight_beat_dragon), And(Not(knight_learn_about_dragon), And(knight_get_excalibur, knight_reinforce)))\n",
    "   => knight_beat_dragon\n",
    "\n",
    "   knight_beat_dragon => knight_save_princess\n",
    "   And(knight_save_princess, knight_ask_princess_name) => princess_fall_in_love\n",
    "   // And(knight_save_princess, And(Not(knight_ask_princess_name), Or(knight_lose_arm, knight_get_saint_blessing))) => princess_fall_in_love\n",
    "   And(knight_save_princess, And(Not(knight_ask_princess_name), Or(knight_badly_hurt, Or(knight_get_saint_blessing, And( Not(knight_get_beast_hide) , knight_lose_arm))))) => princess_fall_in_love\n",
    "   And(Not(princess_fall_in_love), And(knight_save_princess, And(Not(knight_ask_princess_name), knight_get_beast_hide)))\n",
    "   => princess_not_fall_in_love\n",
    "\n",
    "   Or(princess_not_fall_in_love, princess_fall_in_love) => chapter_three_end\n",
    "]\n",
    "let chapter_4th = [\n",
    "   princess_fall_in_love => princess_marry_knight\n",
    "   princess_marry_knight => happy_life\n",
    "   And(happy_life, Not(knight_badly_hurt)) => wang_born\n",
    "   And(happy_life, knight_badly_hurt) => kingdom_doom\n",
    "   wang_born => ano_dragon_appear\n",
    "   And(ano_dragon_appear, Or(king_ask_name, Not(knight_lose_arm))) => wang_grow_up\n",
    "   And(ano_dragon_appear, Or(king_ask_name, Not(knight_lose_arm))) => kingdom_survive\n",
    "   And(ano_dragon_appear, And(Not(king_ask_name), knight_lose_arm)) => wang_dead\n",
    "   And(ano_dragon_appear, And(Not(king_ask_name), knight_lose_arm)) => kingdom_doom\n",
    "\n",
    "   princess_not_fall_in_love => knight_blacken_become_dragon\n",
    "\n",
    "   And(knight_save_princess, knight_blacken_become_dragon) => kingdom_doom\n",
    "   And(princess_vanish, knight_dead ) => kingdom_doom\n",
    "   Or(kingdom_doom, kingdom_survive) => end_story\n",
    "]\n"
   ]
  },
  {
   "cell_type": "code",
   "execution_count": null,
   "metadata": {
    "dotnet_interactive": {
     "language": "fsharp"
    },
    "vscode": {
     "languageId": "dotnet-interactive.fsharp"
    }
   },
   "outputs": [],
   "source": [
    "let rec findFact target facts =\n",
    "    match facts with\n",
    "    | head :: tail ->\n",
    "        if target = head then\n",
    "            true\n",
    "        else\n",
    "            findFact target tail\n",
    "    | [] -> false\n",
    "\n",
    "let rec judgeCondition condition facts =\n",
    "    match condition with\n",
    "    | And(c1, c2) ->\n",
    "        if judgeCondition c1 facts then\n",
    "            if judgeCondition c2 facts then\n",
    "                true\n",
    "            else\n",
    "                false\n",
    "        else\n",
    "            false \n",
    "    | Or(c1, c2) ->\n",
    "        if judgeCondition c1 facts then\n",
    "            true\n",
    "        else if judgeCondition c2 facts then\n",
    "            true\n",
    "        else\n",
    "            false  \n",
    "    | Not(c1) ->\n",
    "        if judgeCondition c1 facts then\n",
    "            false\n",
    "        else\n",
    "            true\n",
    "    | _ -> findFact condition facts\n",
    "\n",
    "let AndOpearation conditionOne conditionTwo facts = \n",
    "    if judgeCondition conditionOne facts then\n",
    "        if judgeCondition conditionTwo facts then\n",
    "            true\n",
    "        else\n",
    "            false\n",
    "    else\n",
    "        false\n",
    "\n",
    "let OrOpearation conditionOne conditionTwo facts = \n",
    "    if judgeCondition conditionOne facts then\n",
    "        true\n",
    "    else if judgeCondition conditionTwo facts then\n",
    "        true\n",
    "    else\n",
    "        false \n",
    "\n",
    "\n",
    "let rec getNewFacts imply facts newFacts = \n",
    "    match imply with \n",
    "    | Implies(condition, result) -> \n",
    "        if findFact result facts then newFacts \n",
    "        else\n",
    "        match condition with\n",
    "        | And(conditionOne, conditionTwo) -> \n",
    "            if AndOpearation conditionOne conditionTwo facts then\n",
    "                [result]\n",
    "            else newFacts  \n",
    "        | Or(conditionOne, conditionTwo) -> \n",
    "            if OrOpearation conditionOne conditionTwo facts then\n",
    "                [result]\n",
    "            else newFacts  \n",
    "        | Not(conditionOne) -> \n",
    "            if judgeCondition condition facts then\n",
    "                newFacts\n",
    "            else [result]  \n",
    "        | _ -> \n",
    "            if judgeCondition condition facts then\n",
    "                [result]\n",
    "            else newFacts \n",
    "    | _ ->  newFacts\n",
    "         "
   ]
  },
  {
   "cell_type": "code",
   "execution_count": null,
   "metadata": {
    "dotnet_interactive": {
     "language": "fsharp"
    },
    "vscode": {
     "languageId": "dotnet-interactive.fsharp"
    }
   },
   "outputs": [],
   "source": [
    "let getGoal goal facts =\n",
    "    let get x = x = goal\n",
    "    let result = List.filter get facts \n",
    "    if result <> [] then True\n",
    "    else False"
   ]
  },
  {
   "cell_type": "code",
   "execution_count": null,
   "metadata": {
    "dotnet_interactive": {
     "language": "fsharp"
    },
    "vscode": {
     "languageId": "dotnet-interactive.fsharp"
    }
   },
   "outputs": [],
   "source": [
    "let printImplies knowledge = \n",
    "    match knowledge with\n",
    "    | Implies(condition, result) -> printfn \"%A => %A \" condition result\n",
    "    | _ -> printf \"\"\n",
    "\n",
    "\n",
    "let rec inference goal knowledge facts originals= \n",
    "    match knowledge with\n",
    "    | head :: tail -> \n",
    "        let facts0 = getNewFacts head facts [] \n",
    "        if facts0 = [] then \n",
    "            inference goal tail facts originals\n",
    "        else \n",
    "            let ans = getGoal goal facts0\n",
    "            if ans = True then facts\n",
    "            else \n",
    "                printImplies head\n",
    "                inference goal originals (facts0@facts) originals\n",
    "    | [] -> facts"
   ]
  },
  {
   "cell_type": "code",
   "execution_count": null,
   "metadata": {
    "dotnet_interactive": {
     "language": "fsharp"
    },
    "vscode": {
     "languageId": "dotnet-interactive.fsharp"
    }
   },
   "outputs": [],
   "source": [
    "let rec the_story goals knowledges facts=\n",
    "    match knowledges with\n",
    "    | head :: tail ->\n",
    "        let ans = inference (List.head goals) head facts head\n",
    "        the_story (List.tail goals) tail ans\n",
    "    | [] -> True"
   ]
  },
  {
   "cell_type": "code",
   "execution_count": null,
   "metadata": {
    "dotnet_interactive": {
     "language": "fsharp"
    },
    "vscode": {
     "languageId": "dotnet-interactive.fsharp"
    }
   },
   "outputs": [
    {
     "name": "stdout",
     "output_type": "stream",
     "text": [
      "Fact \"巨龙出现\" => Fact \"龙灾\" \r\n",
      "Fact \"龙灾\" => Fact \"王国没有公主\" \r\n",
      "Fact \"王国没有公主\" => Fact \"勇士出现\" \r\n",
      "Fact \"勇士出现\" => Fact \"勇士要带回公主\" \r\n",
      "Fact \"勇士要带回公主\" => Fact \"勇士翻过最高的山\" \r\n",
      "Fact \"勇士翻过最高的山\" => Fact \"怪兽来袭\" \r\n",
      "And\n",
      "  (Not (Fact \"勇士前往偏远美丽村庄\"),\n",
      "   And (Fact \"怪兽来袭\", And (Not (Fact \"勇士得到最好的剑\"), Fact \"怪兽很厉害\"))) => Fact \"勇士断臂\" \r\n",
      "Or (Fact \"勇士得到12金币\", Or (Fact \"勇士获得兽甲防护\", Fact \"勇士断臂\")) => Fact \"勇士前往偏远美丽村庄\" \r\n",
      "Fact \"勇士前往偏远美丽村庄\" => Fact \"勇士获得宝箱\" \r\n",
      "And (Fact \"勇士获得宝箱\", And (Fact \"勇士询问村庄地点\", Not (Fact \"勇士得到最好的剑\"))) => Fact \"勇士得到武力加成\" \r\n",
      "And (Fact \"勇士获得宝箱\", Fact \"勇士断臂\") => Fact \"勇士得到最好的剑\" \r\n",
      "Fact \"勇士获得宝箱\" => Fact \"勇士继续前行\" \r\n",
      "Fact \"勇士继续前行\" => Fact \"勇士闯进山洞\" \r\n",
      "Fact \"勇士闯进山洞\" => Fact \"勇士遇到公主与巨龙\" \r\n",
      "And (Fact \"勇士遇到公主与巨龙\", Fact \"勇士问巨龙姓名\") => Fact \"勇士得知巨龙底细\" \r\n",
      "And\n",
      "  (Not (Fact \"勇士战胜巨龙\"),\n",
      "   And (Fact \"勇士得知巨龙底细\", Or (Fact \"勇士得到最好的剑\", Fact \"勇士获得兽甲防护\"))) => Fact \"勇士战胜巨龙\" \r\n",
      "Fact \"勇士战胜巨龙\" => Fact \"勇士救了公主\" \r\n",
      "And (Fact \"勇士救了公主\", Fact \"勇士询问公主姓名\") => Fact \"勇士获得公主倾心\" \r\n",
      "Fact \"勇士获得公主倾心\" => Fact \"公主嫁给勇士\" \r\n",
      "Fact \"公主嫁给勇士\" => Fact \"公主与勇士幸福得像个童话\" \r\n",
      "And (Fact \"公主与勇士幸福得像个童话\", Not (Fact \"勇士重伤\")) => Fact \"王浩然降生\" \r\n",
      "Fact \"王浩然降生\" => Fact \"魔龙来袭\" \r\n",
      "And (Fact \"魔龙来袭\", And (Not (Fact \"国王询问勇士姓名\"), Fact \"勇士断臂\")) => Fact \"王浩然死亡\" \r\n",
      "And (Fact \"魔龙来袭\", And (Not (Fact \"国王询问勇士姓名\"), Fact \"勇士断臂\")) => Fact \"王国覆灭\" \r\n"
     ]
    }
   ],
   "source": [
    "let Facts = [dragon_appear;\n",
    "            //  king_ask_name;\n",
    "             monster_strong;\n",
    "             knight_ask_for_village_pos;\n",
    "             knight_ask_dragon_name;\n",
    "             knight_ask_princess_name;\n",
    "             ]\n",
    "let goals = [chapter_one_end; chapter_two_end; chapter_three_end; end_story]\n",
    "let knowledges = [chapter_1st; chapter_2nd; chapter_3rd; chapter_4th]\n",
    "ignore(the_story goals knowledges Facts)"
   ]
  },
  {
   "cell_type": "code",
   "execution_count": null,
   "metadata": {
    "dotnet_interactive": {
     "language": "fsharp"
    },
    "vscode": {
     "languageId": "dotnet-interactive.fsharp"
    }
   },
   "outputs": [],
   "source": [
    "let goal = end_story\n",
    "let ans = inference goal knowledge Facts knowledge\n",
    "ans"
   ]
  },
  {
   "cell_type": "markdown",
   "metadata": {},
   "source": [
    "问题2: 比较准确的符合文本的knowledge列表如何定义？"
   ]
  },
  {
   "cell_type": "code",
   "execution_count": null,
   "metadata": {
    "dotnet_interactive": {
     "language": "fsharp"
    },
    "vscode": {
     "languageId": "dotnet-interactive.fsharp"
    }
   },
   "outputs": [],
   "source": [
    "let realKnowledge = [\n",
    "    And(Or(Jones_ill, Smith_away), Robinson_back) => Directors_dividend;\n",
    "    Jones_ill => Patterson_come;\n",
    "    Patterson_come => Robinson_back;\n",
    "    Townsend_away => Robinson_back;\n",
    "    Smith_away => Townsend_away\n",
    "]"
   ]
  },
  {
   "cell_type": "markdown",
   "metadata": {},
   "source": [
    "讨论3：构想一个在某个游戏里面的连锁事件的例子，给定一个前提事件，推理最终结果。只需要改变knowledge和Facts内容，不需要改变其它代码。"
   ]
  },
  {
   "cell_type": "markdown",
   "metadata": {},
   "source": [
    "讨论过程：明确目标，分析面临困难，设想解决路线，完成任务。"
   ]
  }
 ],
 "metadata": {
  "kernelspec": {
   "display_name": ".NET (F#)",
   "language": "F#",
   "name": ".net-fsharp"
  },
  "language_info": {
   "file_extension": ".fs",
   "mimetype": "text/x-fsharp",
   "name": "C#",
   "pygments_lexer": "fsharp",
   "version": "4.5"
  }
 },
 "nbformat": 4,
 "nbformat_minor": 4
}
